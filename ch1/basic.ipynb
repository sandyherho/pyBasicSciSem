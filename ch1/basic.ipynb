{
 "cells": [
  {
   "cell_type": "markdown",
   "id": "6813e267",
   "metadata": {},
   "source": [
    "# Assignment of variables"
   ]
  },
  {
   "cell_type": "code",
   "execution_count": 1,
   "id": "0184f0cf",
   "metadata": {},
   "outputs": [],
   "source": [
    "# This line is a comment\n",
    "\"\"\"\n",
    "This block is a LONG COMMENT. It's bounded\n",
    "between triple quote marks.\n",
    "As many lines as you want.\n",
    "\"\"\"\n",
    "\n",
    "mass = 36.12 # real num. (float)\n",
    "gravity = 9.81 # another real num.\n",
    "jas = 32 # integer\n",
    "alpha = 2 + 3j # complex num.\n",
    "beta = complex(2, 3) # alt. of defining complex num.\n",
    "my_name = \"Sandy Herho\" # alphanum. string"
   ]
  },
  {
   "cell_type": "markdown",
   "id": "af357bea",
   "metadata": {},
   "source": [
    "# Assignment of lists, dictionaries, and tuples"
   ]
  },
  {
   "cell_type": "code",
   "execution_count": 2,
   "id": "78e425da",
   "metadata": {},
   "outputs": [],
   "source": [
    "# lists\n",
    "primes = [2, 3, 5, 7, 11, 13]\n",
    "\n",
    "days = ['monday', 'tuesday', 'friday']\n",
    "\n",
    "movies = [\n",
    "    [\"Star Wars\", 1977],\n",
    "    [\"Superman II\", 1980],\n",
    "    [\"Gremlins\", 1984],\n",
    "    [\"Schlinder's list\", 1993]\n",
    "]\n",
    "\n",
    "# dictionaries\n",
    "my_dict = {\n",
    "    \"Marinir\":\"AL\",\n",
    "    \"Kostrad\":\"AD\",\n",
    "    \"Pasgat\":\"AU\"\n",
    "}\n",
    "\n",
    "# tuples - lists with fixed contents (can't be modified)\n",
    "tup1 = ('A', 'b', 1, 2)\n",
    "tup2 = (1,2,3)"
   ]
  },
  {
   "cell_type": "code",
   "execution_count": 3,
   "id": "0c3349fb",
   "metadata": {},
   "outputs": [
    {
     "name": "stdout",
     "output_type": "stream",
     "text": [
      "[1 4 6]\n",
      "\n",
      "\n",
      "[[1]\n",
      " [4]\n",
      " [6]]\n",
      "\n",
      "\n",
      "[[1]\n",
      " [2]\n",
      " [3]]\n",
      "\n",
      "\n",
      "[[1 2 3]\n",
      " [4 5 6]\n",
      " [7 8 9]]\n"
     ]
    }
   ],
   "source": [
    "# Arrays\n",
    "import numpy as np\n",
    "\n",
    "vec = np.array([1, 4, 6])\n",
    "print(vec)\n",
    "print('\\n')\n",
    "\n",
    "# col. array\n",
    "vec_col = vec.reshape(-1,1)\n",
    "print(vec_col)\n",
    "print('\\n')\n",
    "\n",
    "# col. array more visual\n",
    "vec_col2 = np.array([\n",
    "    [1],\n",
    "    [2],\n",
    "    [3]\n",
    "])\n",
    "print(vec_col2)\n",
    "print('\\n')\n",
    "\n",
    "# matrix\n",
    "mat = np.array([[1,2,3],\n",
    "               [4,5,6],\n",
    "               [7,8,9]])\n",
    "print(mat)"
   ]
  },
  {
   "cell_type": "markdown",
   "id": "bebca271",
   "metadata": {},
   "source": [
    "# Calculations and ops"
   ]
  },
  {
   "cell_type": "code",
   "execution_count": 4,
   "id": "ca775e0d",
   "metadata": {},
   "outputs": [
    {
     "name": "stdout",
     "output_type": "stream",
     "text": [
      "354.3372\n",
      "\n",
      "\n",
      "-1.6522101618501746\n",
      "\n",
      "\n",
      "-8.511448264906445\n",
      "\n",
      "\n",
      "[1 4 6]\n",
      "[ 2  8 12]\n",
      "\n",
      "\n",
      "[ 1 16 36]\n",
      "\n",
      "\n",
      "53\n",
      "\n",
      "\n",
      "[[1 2 3]\n",
      " [4 5 6]\n",
      " [7 8 9]]\n",
      "[[ 30  36  42]\n",
      " [ 66  81  96]\n",
      " [102 126 150]]\n",
      "\n",
      "\n",
      "[ 1.61168440e+01 -1.11684397e+00 -3.38433605e-16]\n",
      "\n",
      "\n",
      "Halo nama saya: Sandy Herho\n"
     ]
    }
   ],
   "source": [
    "force = mass * gravity\n",
    "print(force)\n",
    "print('\\n')\n",
    "\n",
    "alpha = np.log(np.sin(np.pi*gravity)**2) - .5\n",
    "print(alpha)\n",
    "print('\\n')\n",
    "\n",
    "ux3 = np.pi * np.sin(alpha) * np.e\n",
    "print(ux3)\n",
    "print('\\n')\n",
    "\n",
    "vec2 = vec + vec\n",
    "print(vec)\n",
    "print(vec2)\n",
    "print('\\n')\n",
    "\n",
    "vec3 = vec * vec\n",
    "print(vec3)\n",
    "print('\\n')\n",
    "\n",
    "dot = np.dot(vec, vec)\n",
    "print(dot)\n",
    "print('\\n')\n",
    "\n",
    "mat2 = np.dot(mat, mat)\n",
    "print(mat)\n",
    "print(mat2)\n",
    "print('\\n')\n",
    "\n",
    "Au = np.linalg.eigvals(mat)\n",
    "print(Au)\n",
    "print('\\n')\n",
    "\n",
    "test = \"Halo \" + \"nama saya: \" + my_name\n",
    "print(test)"
   ]
  },
  {
   "cell_type": "markdown",
   "id": "7101966f",
   "metadata": {},
   "source": [
    "# Extract data from arrays"
   ]
  },
  {
   "cell_type": "code",
   "execution_count": 15,
   "id": "d2b1fd32",
   "metadata": {},
   "outputs": [
    {
     "name": "stdout",
     "output_type": "stream",
     "text": [
      "[1 4 6]\n",
      "\n",
      "\n",
      "6\n",
      "\n",
      "\n",
      "[1 4]\n",
      "\n",
      "\n",
      "[1 4 6]\n",
      "\n",
      "\n"
     ]
    }
   ],
   "source": [
    "print(vec)\n",
    "print('\\n')\n",
    "\n",
    "aa = vec[2] # extract the 3rd value from an array\n",
    "print(aa)\n",
    "print('\\n')\n",
    "\n",
    "bb = vec[:2] # extract the 1st and 2nd vals.\n",
    "print(bb)\n",
    "print('\\n')\n",
    "\n",
    "cc = vec[:] # extract all vals.\n",
    "print(cc)\n",
    "print('\\n')\n",
    "\n",
    "mat1"
   ]
  },
  {
   "cell_type": "code",
   "execution_count": null,
   "id": "9563b20f",
   "metadata": {},
   "outputs": [],
   "source": []
  }
 ],
 "metadata": {
  "kernelspec": {
   "display_name": "Python 3 (ipykernel)",
   "language": "python",
   "name": "python3"
  },
  "language_info": {
   "codemirror_mode": {
    "name": "ipython",
    "version": 3
   },
   "file_extension": ".py",
   "mimetype": "text/x-python",
   "name": "python",
   "nbconvert_exporter": "python",
   "pygments_lexer": "ipython3",
   "version": "3.8.13"
  }
 },
 "nbformat": 4,
 "nbformat_minor": 5
}
