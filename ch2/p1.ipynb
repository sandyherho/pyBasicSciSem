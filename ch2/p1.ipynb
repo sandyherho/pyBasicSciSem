{
 "cells": [
  {
   "cell_type": "code",
   "execution_count": 1,
   "id": "17a81c52",
   "metadata": {},
   "outputs": [],
   "source": [
    "import numpy as np"
   ]
  },
  {
   "cell_type": "markdown",
   "id": "d152a810",
   "metadata": {},
   "source": [
    "# Systems of linear equations"
   ]
  },
  {
   "cell_type": "markdown",
   "id": "048af222",
   "metadata": {},
   "source": [
    "$$\\begin{pmatrix}\n",
    "a_{00} & a_{01} & \\dots & a_{0n}\\\\\n",
    "a_{10} & a_{11} & \\dots & a_{1n}\\\\\n",
    "\\vdots & \\vdots & \\ddots & \\vdots\\\\\n",
    "a_{n0} & a_{n1} & \\dots & a_{nn}\n",
    "\\end{pmatrix} \n",
    "\\begin{pmatrix}\n",
    "x_0 \\\\\n",
    "\\vdots \\\\\n",
    "x_n \n",
    "\\end{pmatrix} = \\begin{pmatrix}\n",
    "y_0 \\\\\n",
    "\\vdots \\\\\n",
    "y_n \n",
    "\\end{pmatrix}$$\n",
    "\n",
    "* $[a_{00}, \\dots, a_{nn}]$: linear coefficients,\n",
    "* $[x_0 , \\dots , x_n ]$: unknown values,\n",
    "* $[y_0 , \\dots , y_n ]$: outputs.\n",
    "\n",
    "Ex.\n",
    "$$\n",
    "x + 2y + 5z + 6t = 1\\\\\n",
    "4x - 4y - 6z + 8t = 6\\\\ \n",
    "-12x + y + 3z + 9t = 7\\\\\n",
    "18x + 6t = 2\n",
    "$$"
   ]
  },
  {
   "cell_type": "code",
   "execution_count": 3,
   "id": "b60aa8bb",
   "metadata": {},
   "outputs": [
    {
     "name": "stdout",
     "output_type": "stream",
     "text": [
      "Solution is x, y, z, t:  [-0.18245614  3.27368421 -2.12982456  0.88070175]\n",
      "Solution is x, y, z, t by inv[A]*y:  [-0.18245614  3.27368421 -2.12982456  0.88070175]\n"
     ]
    }
   ],
   "source": [
    "# system of linear equations\n",
    "mat = np.array([[1, 2, 5, 6],\n",
    "               [4, -4, -6, 8],\n",
    "               [-12, 1, 3, 9],\n",
    "               [18, 0, 0, 6]])\n",
    "\n",
    "vec = np.array([1, 6, 7, 2])\n",
    "\n",
    "sol1 = np.linalg.solve(mat, vec)\n",
    "print('Solution is x, y, z, t: ', sol1)\n",
    "\n",
    "# alt. method\n",
    "sol2 = np.matmul(np.linalg.inv(mat), vec)\n",
    "print('Solution is x, y, z, t by inv[A]*y: ', sol2)"
   ]
  }
 ],
 "metadata": {
  "kernelspec": {
   "display_name": "Python 3 (ipykernel)",
   "language": "python",
   "name": "python3"
  },
  "language_info": {
   "codemirror_mode": {
    "name": "ipython",
    "version": 3
   },
   "file_extension": ".py",
   "mimetype": "text/x-python",
   "name": "python",
   "nbconvert_exporter": "python",
   "pygments_lexer": "ipython3",
   "version": "3.8.13"
  }
 },
 "nbformat": 4,
 "nbformat_minor": 5
}
