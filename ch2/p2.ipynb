{
 "cells": [
  {
   "cell_type": "markdown",
   "id": "f4e6426e",
   "metadata": {},
   "source": [
    "# System of Nonlinear equations"
   ]
  },
  {
   "cell_type": "code",
   "execution_count": 1,
   "id": "e0d598b6",
   "metadata": {},
   "outputs": [],
   "source": [
    "import numpy as np\n",
    "import matplotlib.pyplot as plt\n",
    "plt.style.use('ggplot')"
   ]
  },
  {
   "cell_type": "markdown",
   "id": "00c14256",
   "metadata": {},
   "source": [
    "## Vostok -1 "
   ]
  },
  {
   "cell_type": "markdown",
   "id": "41a1462c",
   "metadata": {},
   "source": [
    "* Problem: Finding the orbit of vostok-1\n",
    "* Data: the maximum & minimum height (apogee & perigee).\n",
    "* Solution: finding the iterative resolution of the Kepler implicit equation for the implicit eccentric anomaly:\n",
    "$$M(E) = E-e \\sin{(E)}$$"
   ]
  },
  {
   "cell_type": "code",
   "execution_count": 2,
   "id": "a15ddd84",
   "metadata": {},
   "outputs": [],
   "source": [
    "from scipy.optimize import fsolve\n",
    "\n",
    "# Vostok-1 orbital data\n",
    "apogee = 327e3 #m\n",
    "perigee = 169e3 #m\n",
    "\n",
    "# earth data\n",
    "R = 6378000 # earth radius, m\n",
    "M = 5.972e24 #earth mass, kg\n",
    "G = 6.672e-11 # universal grav. const. (N.m^2.kg^-1)\n",
    "\n",
    "# ellipse characteristics\n",
    "mu = M*G\n",
    "c = (apogee - perigee) / 2\n"
   ]
  },
  {
   "cell_type": "code",
   "execution_count": null,
   "id": "0ca78a3f",
   "metadata": {},
   "outputs": [],
   "source": []
  }
 ],
 "metadata": {
  "kernelspec": {
   "display_name": "Python 3 (ipykernel)",
   "language": "python",
   "name": "python3"
  },
  "language_info": {
   "codemirror_mode": {
    "name": "ipython",
    "version": 3
   },
   "file_extension": ".py",
   "mimetype": "text/x-python",
   "name": "python",
   "nbconvert_exporter": "python",
   "pygments_lexer": "ipython3",
   "version": "3.8.13"
  }
 },
 "nbformat": 4,
 "nbformat_minor": 5
}
