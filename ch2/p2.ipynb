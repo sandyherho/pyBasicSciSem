{
 "cells": [
  {
   "cell_type": "markdown",
   "id": "8d1bc60b",
   "metadata": {},
   "source": [
    "# System of Nonlinear equations"
   ]
  },
  {
   "cell_type": "code",
   "execution_count": 1,
   "id": "23bf504e",
   "metadata": {},
   "outputs": [],
   "source": [
    "import numpy as np\n",
    "import matplotlib.pyplot as plt\n",
    "plt.style.use('ggplot')"
   ]
  },
  {
   "cell_type": "markdown",
   "id": "63f75adf",
   "metadata": {},
   "source": [
    "## Vostok -1 "
   ]
  },
  {
   "cell_type": "markdown",
   "id": "bedd94d1",
   "metadata": {},
   "source": [
    "* Problem: Finding the orbit of vostok-1\n",
    "* Data: the maximum & minimum height (apogee & perigee).\n",
    "* Solution: finding the iterative resolution of the Kepler implicit equation for the implicit eccentric anomaly:\n",
    "$$M(E) = E-e \\sin{(E)}$$"
   ]
  },
  {
   "cell_type": "code",
   "execution_count": null,
   "id": "6471dfdd",
   "metadata": {},
   "outputs": [],
   "source": [
    "from scipy.optimize import fsolve\n",
    "\n",
    "# Vostok-1 orbital data\n",
    "apogee = 327e3 #m\n",
    "perigee = 169e3 #m\n"
   ]
  }
 ],
 "metadata": {
  "kernelspec": {
   "display_name": "Python 3 (ipykernel)",
   "language": "python",
   "name": "python3"
  },
  "language_info": {
   "codemirror_mode": {
    "name": "ipython",
    "version": 3
   },
   "file_extension": ".py",
   "mimetype": "text/x-python",
   "name": "python",
   "nbconvert_exporter": "python",
   "pygments_lexer": "ipython3",
   "version": "3.8.13"
  }
 },
 "nbformat": 4,
 "nbformat_minor": 5
}
